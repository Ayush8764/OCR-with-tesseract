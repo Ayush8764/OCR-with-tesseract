{
  "nbformat": 4,
  "nbformat_minor": 0,
  "metadata": {
    "colab": {
      "name": "OCR with Tesseract.ipynb",
      "provenance": [],
      "collapsed_sections": []
    },
    "kernelspec": {
      "name": "python3",
      "display_name": "Python 3"
    }
  },
  "cells": [
    {
      "cell_type": "code",
      "metadata": {
        "id": "irMGxSq5g-rd"
      },
      "source": [
        "!sudo apt install tesseract-ocr &> /dev/null\n",
        "!pip install pytesseract &> /dev/null"
      ],
      "execution_count": null,
      "outputs": []
    },
    {
      "cell_type": "code",
      "metadata": {
        "colab": {
          "base_uri": "https://localhost:8080/"
        },
        "id": "tKz8W452i6vn",
        "outputId": "ba90b86c-b311-416d-b002-b360d4437687"
      },
      "source": [
        "!wget https://hips.hearstapps.com/hmg-prod.s3.amazonaws.com/images/proud-quote-1522094934.png?crop=0.978xw:0.994xh;0.0225xw,0.00636xh&resize=480:*"
      ],
      "execution_count": null,
      "outputs": [
        {
          "output_type": "stream",
          "text": [
            "--2020-11-29 13:09:44--  https://hips.hearstapps.com/hmg-prod.s3.amazonaws.com/images/proud-quote-1522094934.png?crop=0.978xw:0.994xh\n",
            "Resolving hips.hearstapps.com (hips.hearstapps.com)... 151.101.0.155, 151.101.64.155, 151.101.128.155, ...\n",
            "Connecting to hips.hearstapps.com (hips.hearstapps.com)|151.101.0.155|:443... connected.\n",
            "HTTP request sent, awaiting response... 200 OK\n",
            "Length: 139214 (136K) [image/png]\n",
            "Saving to: ‘proud-quote-1522094934.png?crop=0.978xw:0.994xh’\n",
            "\n",
            "\r          proud-quo   0%[                    ]       0  --.-KB/s               \rproud-quote-1522094 100%[===================>] 135.95K  --.-KB/s    in 0.03s   \n",
            "\n",
            "2020-11-29 13:09:44 (5.23 MB/s) - ‘proud-quote-1522094934.png?crop=0.978xw:0.994xh’ saved [139214/139214]\n",
            "\n",
            "/bin/bash: 0.0225xw,0.00636xh: command not found\n"
          ],
          "name": "stdout"
        }
      ]
    },
    {
      "cell_type": "code",
      "metadata": {
        "colab": {
          "base_uri": "https://localhost:8080/",
          "height": 286
        },
        "id": "Y7_e9BKmjI2C",
        "outputId": "6ad55aef-b753-4ef6-d486-39df69b89df3"
      },
      "source": [
        "import matplotlib.pyplot as plt\n",
        "a = plt.imread('/content/proud-quote-1522094934.png?crop=0.978xw:0.994xh')\n",
        "plt.imshow(a)"
      ],
      "execution_count": null,
      "outputs": [
        {
          "output_type": "execute_result",
          "data": {
            "text/plain": [
              "<matplotlib.image.AxesImage at 0x7f08c65bdf60>"
            ]
          },
          "metadata": {
            "tags": []
          },
          "execution_count": 3
        },
        {
          "output_type": "display_data",
          "data": {
            "image/png": "[encoded data removed]",
            "text/plain": [
              "<Figure size 432x288 with 1 Axes>"
            ]
          },
          "metadata": {
            "tags": [],
            "needs_background": "light"
          }
        }
      ]
    },
    {
      "cell_type": "code",
      "metadata": {
        "colab": {
          "base_uri": "https://localhost:8080/"
        },
        "id": "wlg2QdStjVe3",
        "outputId": "0a5a1f6f-4123-4bfa-fe5a-b356b4543d66"
      },
      "source": [
        "import pytesseract\n",
        "extract = pytesseract.image_to_string(a)\n",
        "print(extract)"
      ],
      "execution_count": null,
      "outputs": [
        {
          "output_type": "stream",
          "text": [
            " \n",
            "\n",
            "DON T\n",
            "S10 Fr\n",
            "UNTIL\n",
            "YOURE\n",
            "PROUD\n",
            "\f\n"
          ],
          "name": "stdout"
        }
      ]
    },
    {
      "cell_type": "code",
      "metadata": {
        "colab": {
          "base_uri": "https://localhost:8080/"
        },
        "id": "IxGWXk2FjoQj",
        "outputId": "5825f489-fdfe-402a-e53d-2c1f3c06c1d4"
      },
      "source": [
        "!wget https://hips.hearstapps.com/hmg-prod.s3.amazonaws.com/images/misty-copeland-1561478971.png?crop=1xw:1xh;center,top&resize=480:*"
      ],
      "execution_count": null,
      "outputs": [
        {
          "output_type": "stream",
          "text": [
            "--2020-11-29 13:10:58--  https://hips.hearstapps.com/hmg-prod.s3.amazonaws.com/images/misty-copeland-1561478971.png?crop=1xw:1xh\n",
            "Resolving hips.hearstapps.com (hips.hearstapps.com)... 151.101.0.155, 151.101.64.155, 151.101.128.155, ...\n",
            "Connecting to hips.hearstapps.com (hips.hearstapps.com)|151.101.0.155|:443... connected.\n",
            "HTTP request sent, awaiting response... 200 OK\n",
            "Length: 45566 (44K) [image/png]\n",
            "Saving to: ‘misty-copeland-1561478971.png?crop=1xw:1xh’\n",
            "\n",
            "\r          misty-cop   0%[                    ]       0  --.-KB/s               \rmisty-copeland-1561 100%[===================>]  44.50K  --.-KB/s    in 0.01s   \n",
            "\n",
            "2020-11-29 13:10:58 (3.56 MB/s) - ‘misty-copeland-1561478971.png?crop=1xw:1xh’ saved [45566/45566]\n",
            "\n",
            "/bin/bash: center,top: command not found\n"
          ],
          "name": "stdout"
        }
      ]
    },
    {
      "cell_type": "code",
      "metadata": {
        "id": "51mc5vK-j9Ki"
      },
      "source": [
        ""
      ],
      "execution_count": null,
      "outputs": []
    },
    {
      "cell_type": "code",
      "metadata": {
        "colab": {
          "base_uri": "https://localhost:8080/",
          "height": 470
        },
        "id": "boacZX3qkB2u",
        "outputId": "45379c77-4a03-4897-84bb-d6024c5786e8"
      },
      "source": [
        "import matplotlib.pyplot as plt\n",
        "import pytesseract\n",
        "a = plt.imread('/content/misty-copeland-1561478971.png?crop=1xw:1xh')\n",
        "plt.imshow(a)\n",
        "extract = pytesseract.image_to_string(a)\n",
        "print(extract)"
      ],
      "execution_count": null,
      "outputs": [
        {
          "output_type": "stream",
          "text": [
            "Anything is possible\n",
            "when you have the\n",
            "right people there to\n",
            "support you.\n",
            "\n",
            "esp\n",
            "ow\n",
            "\n",
            "MISTY COPELAND\n",
            "\n",
            "©\n",
            "\f\n"
          ],
          "name": "stdout"
        },
        {
          "output_type": "display_data",
          "data": {
            "image/png": "[encoded data removed]",
            "text/plain": [
              "<Figure size 432x288 with 1 Axes>"
            ]
          },
          "metadata": {
            "tags": [],
            "needs_background": "light"
          }
        }
      ]
    },
    {
      "cell_type": "code",
      "metadata": {
        "id": "RGdujffNkB2v"
      },
      "source": [
        "# Deployment is one of the main imp part in ML\n",
        "\n",
        "# Creating a Webpage - {HTML/CSS/JS} {Python -Flask}\n",
        "# WebApp - STREAMLIT\n",
        "# Mobile App - Kotlin/Java/Swift/Flutter"
      ],
      "execution_count": null,
      "outputs": []
    },
    {
      "cell_type": "code",
      "metadata": {
        "colab": {
          "base_uri": "https://localhost:8080/"
        },
        "id": "2U5Kr-tImc9i",
        "outputId": "eedc6029-6e98-4b4a-d1fb-8a79e13ef830"
      },
      "source": [
        "%%writefile add.py\n",
        "a = 1\n",
        "b = 2\n",
        "print(a+b)\n",
        "\n",
        "\n",
        "def add(a,b):\n",
        "  return a+b\n",
        "\n",
        "print(add(2,3))\n",
        "\n",
        "# Argument Parser"
      ],
      "execution_count": null,
      "outputs": [
        {
          "output_type": "stream",
          "text": [
            "Writing add.py\n"
          ],
          "name": "stdout"
        }
      ]
    },
    {
      "cell_type": "code",
      "metadata": {
        "colab": {
          "base_uri": "https://localhost:8080/"
        },
        "id": "jGi_eOmBnVIl",
        "outputId": "3707b1d5-76a1-4177-f23d-a0b18a46ed56"
      },
      "source": [
        "!python add.py "
      ],
      "execution_count": null,
      "outputs": [
        {
          "output_type": "stream",
          "text": [
            "3\n"
          ],
          "name": "stdout"
        }
      ]
    },
    {
      "cell_type": "code",
      "metadata": {
        "id": "gM556XBGnhU7"
      },
      "source": [
        "!pip install streamlit &> /dev/null\n",
        "!pip install pyngrok==4.1.1 &> /dev/null\n",
        "# Python Wrapper for NGROK Library(Tunneling Software)\n",
        "# Redirects local host URL to GLobal URL"
      ],
      "execution_count": null,
      "outputs": []
    },
    {
      "cell_type": "code",
      "metadata": {
        "colab": {
          "base_uri": "https://localhost:8080/"
        },
        "id": "3m22B2QupKP8",
        "outputId": "28e15bd3-4da8-417b-90f1-9a62bead63bd"
      },
      "source": [
        "%%writefile app.py\n",
        "import streamlit as st\n",
        "import pytesseract\n",
        "import numpy as np\n",
        "from PIL import Image\n",
        "\n",
        "st.title('MY OWN OCR APP')\n",
        "st.write('Using Tesseract')\n",
        "# a = st.text_input(\"Write your Name\",\"---\")\n",
        "# st.write(\"My name is \",a)\n",
        "upload = st.file_uploader(\"Choose an Image\")\n",
        "if upload is not None:\n",
        "  img = Image.open(upload)\n",
        "  st.image(img,caption = 'UPLOADED IMAGE',use_column_width=True)\n",
        "\n",
        "  if st.button('PREDICT'):\n",
        "    st.write(\"RESULT....\")\n",
        "    extract = pytesseract.image_to_string(img)\n",
        "    st.title(extract)"
      ],
      "execution_count": null,
      "outputs": [
        {
          "output_type": "stream",
          "text": [
            "Overwriting app.py\n"
          ],
          "name": "stdout"
        }
      ]
    },
    {
      "cell_type": "code",
      "metadata": {
        "colab": {
          "base_uri": "https://localhost:8080/"
        },
        "id": "_Pcan3ggpn-w",
        "outputId": "a3752c89-0562-488a-874e-ac8d0392f6a8"
      },
      "source": [
        "from pyngrok import ngrok\n",
        "!nohup streamlit run app.py &\n",
        "r_url = ngrok.connect(port='8501')\n",
        "print(r_url)"
      ],
      "execution_count": null,
      "outputs": [
        {
          "output_type": "stream",
          "text": [
            "nohup: appending output to 'nohup.out'\n",
            "http://4e498e3e0747.ngrok.io\n"
          ],
          "name": "stdout"
        }
      ]
    },
    {
      "cell_type": "code",
      "metadata": {
        "id": "AjrvaDMSp0pw"
      },
      "source": [
        "# AWS, Azure, GCP - Credit Card\n",
        "# Heroku -PaaS [500 Hours every month]\n"
      ],
      "execution_count": null,
      "outputs": []
    },
    {
      "cell_type": "code",
      "metadata": {
        "id": "0Co1uJMULbiY"
      },
      "source": [
        "# Streamlit Methods: \n",
        "\n",
        "# 1. st.image()\n",
        "# 2. st.title()\n",
        "# 3. st.write()\n",
        "# 4. st.button()\n",
        "# 5. st.text_input()\n",
        "# 6. st.file_uploader()\n",
        "\n",
        "# Link for Documentation of Streamlit: https://docs.streamlit.io/en/stable/"
      ],
      "execution_count": null,
      "outputs": []
    }
  ]
}